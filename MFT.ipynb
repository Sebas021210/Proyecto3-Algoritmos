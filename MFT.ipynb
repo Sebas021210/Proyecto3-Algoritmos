{
 "cells": [
  {
   "cell_type": "markdown",
   "metadata": {},
   "source": [
    "# Proyecto No. 3 - MTF"
   ]
  },
  {
   "cell_type": "markdown",
   "metadata": {},
   "source": [
    "MTF (Move to Front) es un algoritmo de reorganización de datos utilizado principalmente para mejorar el rendimiento de los algoritmos de compresión y búsqueda. En una lista, MTF funciona reorganizando los elementos de la lista cada vez que un elemento es accedido, moviéndolo al frente de la lista. Esto se hace para mejorar el rendimiento cuando los elementos accedidos con más frecuencia tienden a permanecer cerca del frente de la lista, reduciendo así el tiempo de acceso."
   ]
  },
  {
   "cell_type": "markdown",
   "metadata": {},
   "source": [
    "### Clase MTF"
   ]
  },
  {
   "cell_type": "code",
   "execution_count": 45,
   "metadata": {},
   "outputs": [],
   "source": [
    "class MTF:\n",
    "    def __init__(self, config):\n",
    "        self.config = config\n",
    "\n",
    "    def access(self, item):\n",
    "        cost = self.config.index(item) + 1\n",
    "        self.config.pop(self.config.index(item))\n",
    "        self.config.insert(0, item)\n",
    "        return cost\n",
    "\n",
    "    def calculate_total_cost(self, sequence):\n",
    "        total_cost = 0\n",
    "        for item in sequence:\n",
    "            cost = self.access(item)\n",
    "            #print(\"Lista de configuración:\", self.config)\n",
    "            #print(\"Solicitud:\", item)\n",
    "            #print(\"Costo:\", cost)\n",
    "            #print(\"Configuración de la lista después de MTF:\", self.config)\n",
    "            total_cost += cost\n",
    "        print(\"Costo total de accesos:\", total_cost)\n",
    "        return total_cost"
   ]
  },
  {
   "cell_type": "markdown",
   "metadata": {},
   "source": [
    "### Cálculo de costo de acceso"
   ]
  },
  {
   "cell_type": "code",
   "execution_count": 46,
   "metadata": {},
   "outputs": [
    {
     "name": "stdout",
     "output_type": "stream",
     "text": [
      "Costo total de accesos: 90\n"
     ]
    },
    {
     "data": {
      "text/plain": [
       "90"
      ]
     },
     "execution_count": 46,
     "metadata": {},
     "output_type": "execute_result"
    }
   ],
   "source": [
    "# Lista de configuración inicial\n",
    "initial_config = [0, 1, 2, 3, 4]\n",
    "\n",
    "# Secuencia de solicitudes\n",
    "sequence = [0, 1, 2, 3, 4, 0, 1, 2, 3, 4, 0, 1, 2, 3, 4, 0, 1, 2, 3, 4]\n",
    "\n",
    "# Crear una instancia de MTF con la lista de configuración inicial\n",
    "mtf = MTF(initial_config)\n",
    "\n",
    "# Calcular el costo total de accesos\n",
    "mtf.calculate_total_cost(sequence)"
   ]
  },
  {
   "cell_type": "markdown",
   "metadata": {},
   "source": [
    "### Cálculo de costo de acceso"
   ]
  },
  {
   "cell_type": "code",
   "execution_count": 47,
   "metadata": {},
   "outputs": [
    {
     "name": "stdout",
     "output_type": "stream",
     "text": [
      "Costo total de accesos: 67\n"
     ]
    },
    {
     "data": {
      "text/plain": [
       "67"
      ]
     },
     "execution_count": 47,
     "metadata": {},
     "output_type": "execute_result"
    }
   ],
   "source": [
    "# Lista de configuración inicial\n",
    "initial_config = [0, 1, 2, 3, 4]\n",
    "\n",
    "# Secuencia de solicitudes\n",
    "sequence = [4, 3, 2, 1, 0, 1, 2, 3, 4, 3, 2, 1, 0, 1, 2, 3, 4]\n",
    "\n",
    "# Crear una instancia de MTF con la lista de configuración inicial\n",
    "mtf = MTF(initial_config)\n",
    "\n",
    "# Calcular el costo total de accesos\n",
    "mtf.calculate_total_cost(sequence)"
   ]
  },
  {
   "cell_type": "markdown",
   "metadata": {},
   "source": [
    "### Secuencia de 20 solicitudes con el mínimo costo"
   ]
  },
  {
   "cell_type": "code",
   "execution_count": 48,
   "metadata": {},
   "outputs": [
    {
     "name": "stdout",
     "output_type": "stream",
     "text": [
      "Costo total de accesos: 30\n",
      "Secuencia de solicitudes para el mejor caso: [0, 0, 0, 0, 1, 1, 1, 1, 2, 2, 2, 2, 3, 3, 3, 3, 4, 4, 4, 4]\n"
     ]
    }
   ],
   "source": [
    "# Lista de configuración inicial\n",
    "initial_config = [0, 1, 2, 3, 4]\n",
    "\n",
    "# Generar la secuencia óptima de 20 solicitudes\n",
    "optimal_sequence = []\n",
    "for item in initial_config:\n",
    "    optimal_sequence.extend([item] * 4)\n",
    "\n",
    "# Crear una instancia de MTF con la lista de configuración inicial\n",
    "mtf = MTF(initial_config)\n",
    "\n",
    "# Calcular el costo total de accesos para la secuencia óptima\n",
    "mtf.calculate_total_cost(optimal_sequence)\n",
    "\n",
    "print(\"Secuencia de solicitudes para el mejor caso:\", optimal_sequence)"
   ]
  },
  {
   "cell_type": "markdown",
   "metadata": {},
   "source": [
    "### Secuencia de 20 solicitudes con el peor costo"
   ]
  },
  {
   "cell_type": "code",
   "execution_count": 49,
   "metadata": {},
   "outputs": [
    {
     "name": "stdout",
     "output_type": "stream",
     "text": [
      "Costo total de accesos: 100\n",
      "Secuencia de solicitudes para el peor caso: [4, 3, 2, 1, 0, 4, 3, 2, 1, 0, 4, 3, 2, 1, 0, 4, 3, 2, 1, 0]\n"
     ]
    }
   ],
   "source": [
    "# Lista de configuración inicial\n",
    "initial_config = [0, 1, 2, 3, 4]\n",
    "\n",
    "# Generar la secuencia de solicitudes para el peor caso\n",
    "worst_case_sequence = [4, 3, 2, 1, 0] * 4\n",
    "\n",
    "# Crear una instancia de MTF con la lista de configuración inicial\n",
    "mtf = MTF(initial_config)\n",
    "\n",
    "# Calcular el costo total de accesos para el peor caso\n",
    "total_cost_worst_case = mtf.calculate_total_cost(worst_case_sequence)\n",
    "\n",
    "print(\"Secuencia de solicitudes para el peor caso:\", worst_case_sequence)"
   ]
  },
  {
   "cell_type": "markdown",
   "metadata": {},
   "source": [
    "### Secuencia de 20 solicitudes con repetición de elementos"
   ]
  },
  {
   "cell_type": "code",
   "execution_count": 55,
   "metadata": {},
   "outputs": [
    {
     "name": "stdout",
     "output_type": "stream",
     "text": [
      "Secuencia de solicitudes: [2, 2, 2, 2, 2, 2, 2, 2, 2, 2, 2, 2, 2, 2, 2, 2, 2, 2, 2, 2]\n",
      "Costo total de accesos: 22\n",
      "Secuencia de solicitudes modificada: [3, 3, 3, 3, 3, 3, 3, 3, 3, 3, 3, 3, 3, 3, 3, 3, 3, 3, 3, 3]\n",
      "Costo total de accesos: 23\n",
      "Se observa un patrón cuando hay una repetición de 20 elementos en la secuencia.\n"
     ]
    }
   ],
   "source": [
    "# Lista de configuración inicial\n",
    "initial_config = [0, 1, 2, 3, 4]\n",
    "\n",
    "# Secuencia de solicitudes\n",
    "sequence = [2] * 20\n",
    "\n",
    "# Crear una instancia de MTF con la lista de configuración inicial\n",
    "mtf = MTF(initial_config)\n",
    "\n",
    "print(\"Secuencia de solicitudes:\", sequence)\n",
    "\n",
    "# Calcular el costo total de accesos para la secuencia dada\n",
    "total_cost = mtf.calculate_total_cost(sequence)\n",
    "\n",
    "# Modificar la secuencia de solicitudes\n",
    "modified_sequence = [3] * 20\n",
    "\n",
    "print(\"Secuencia de solicitudes modificada:\", modified_sequence)\n",
    "\n",
    "# Calcular el costo total de accesos para la secuencia modificada\n",
    "modified_total_cost = mtf.calculate_total_cost(modified_sequence)\n",
    "\n",
    "# Observar cualquier patrón cuando hay una repetición de 20 elementos en la secuencia\n",
    "if total_cost == modified_total_cost:\n",
    "    print(\"No se observa ningún patrón discernible cuando hay una repetición de 20 elementos en la secuencia.\")\n",
    "else:\n",
    "    print(\"Se observa un patrón cuando hay una repetición de 20 elementos en la secuencia.\")"
   ]
  },
  {
   "cell_type": "markdown",
   "metadata": {},
   "source": [
    "### Clase IMTF"
   ]
  },
  {
   "cell_type": "code",
   "execution_count": 50,
   "metadata": {},
   "outputs": [],
   "source": [
    "class IMTF:\n",
    "    def __init__(self, config):\n",
    "        self.config = config\n",
    "\n",
    "    def access(self, item, sequence, idx):\n",
    "        cost = self.config.index(item) + 1\n",
    "        position = self.config.index(item)\n",
    "\n",
    "        # Verificar si el elemento está en los próximos i-1 elementos del elemento accedido\n",
    "        i = position + 1\n",
    "        look_ahead = self.config[i:] + sequence[idx+1:]\n",
    "        if item in look_ahead[:position]:\n",
    "            # Mover el elemento al frente\n",
    "            self.config.pop(position)\n",
    "            self.config.insert(0, item)\n",
    "\n",
    "        return cost\n",
    "\n",
    "    def calculate_total_cost(self, sequence):\n",
    "        total_cost = 0\n",
    "        for i, item in enumerate(sequence):\n",
    "            total_cost += self.access(item, sequence, i)\n",
    "        return total_cost"
   ]
  },
  {
   "cell_type": "markdown",
   "metadata": {},
   "source": [
    "### Cálculo de costo de acceso usando IMTF"
   ]
  },
  {
   "cell_type": "code",
   "execution_count": 51,
   "metadata": {},
   "outputs": [
    {
     "name": "stdout",
     "output_type": "stream",
     "text": [
      "Costo total de acceso usando IMTF para el mejor caso de MTF: 39\n",
      "Costo total de acceso usando IMTF para el peor caso de MTF: 60\n"
     ]
    }
   ],
   "source": [
    "# Lista de configuración inicial\n",
    "initial_config = [0, 1, 2, 3, 4]\n",
    "\n",
    "# Secuencia de solicitudes para el mejor caso de MTF\n",
    "best_case_sequence = []\n",
    "for item in initial_config:\n",
    "    best_case_sequence.extend([item] * 4)\n",
    "\n",
    "# Secuencia de solicitudes para el peor caso de MTF\n",
    "worst_case_sequence = [4, 3, 2, 1, 0] * 4\n",
    "\n",
    "# Crear instancias de IMTF con la lista de configuración inicial\n",
    "imtf_best_case = IMTF(initial_config.copy())\n",
    "imtf_worst_case = IMTF(initial_config.copy())\n",
    "\n",
    "# Calcular el costo total de accesos para el mejor y peor caso\n",
    "total_cost_best_case = imtf_best_case.calculate_total_cost(best_case_sequence)\n",
    "total_cost_worst_case = imtf_worst_case.calculate_total_cost(worst_case_sequence)\n",
    "\n",
    "print(\"Costo total de acceso usando IMTF para el mejor caso de MTF:\", total_cost_best_case)\n",
    "print(\"Costo total de acceso usando IMTF para el peor caso de MTF:\", total_cost_worst_case)"
   ]
  }
 ],
 "metadata": {
  "kernelspec": {
   "display_name": "Python 3",
   "language": "python",
   "name": "python3"
  },
  "language_info": {
   "codemirror_mode": {
    "name": "ipython",
    "version": 3
   },
   "file_extension": ".py",
   "mimetype": "text/x-python",
   "name": "python",
   "nbconvert_exporter": "python",
   "pygments_lexer": "ipython3",
   "version": "3.11.7"
  }
 },
 "nbformat": 4,
 "nbformat_minor": 2
}
